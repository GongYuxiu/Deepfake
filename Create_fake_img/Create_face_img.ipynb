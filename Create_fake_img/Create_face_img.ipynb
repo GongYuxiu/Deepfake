{
 "cells": [
  {
   "cell_type": "code",
   "execution_count": 3,
   "metadata": {},
   "outputs": [
    {
     "data": {
      "text/html": [
       "<div>\n",
       "<style scoped>\n",
       "    .dataframe tbody tr th:only-of-type {\n",
       "        vertical-align: middle;\n",
       "    }\n",
       "\n",
       "    .dataframe tbody tr th {\n",
       "        vertical-align: top;\n",
       "    }\n",
       "\n",
       "    .dataframe thead th {\n",
       "        text-align: right;\n",
       "    }\n",
       "</style>\n",
       "<table border=\"1\" class=\"dataframe\">\n",
       "  <thead>\n",
       "    <tr style=\"text-align: right;\">\n",
       "      <th></th>\n",
       "      <th>label</th>\n",
       "      <th>original</th>\n",
       "      <th>split</th>\n",
       "    </tr>\n",
       "  </thead>\n",
       "  <tbody>\n",
       "    <tr>\n",
       "      <th>aagfhgtpmv.mp4</th>\n",
       "      <td>FAKE</td>\n",
       "      <td>vudstovrck.mp4</td>\n",
       "      <td>train</td>\n",
       "    </tr>\n",
       "    <tr>\n",
       "      <th>aapnvogymq.mp4</th>\n",
       "      <td>FAKE</td>\n",
       "      <td>jdubbvfswz.mp4</td>\n",
       "      <td>train</td>\n",
       "    </tr>\n",
       "    <tr>\n",
       "      <th>abarnvbtwb.mp4</th>\n",
       "      <td>REAL</td>\n",
       "      <td>None</td>\n",
       "      <td>train</td>\n",
       "    </tr>\n",
       "    <tr>\n",
       "      <th>abofeumbvv.mp4</th>\n",
       "      <td>FAKE</td>\n",
       "      <td>atvmxvwyns.mp4</td>\n",
       "      <td>train</td>\n",
       "    </tr>\n",
       "    <tr>\n",
       "      <th>abqwwspghj.mp4</th>\n",
       "      <td>FAKE</td>\n",
       "      <td>qzimuostzz.mp4</td>\n",
       "      <td>train</td>\n",
       "    </tr>\n",
       "  </tbody>\n",
       "</table>\n",
       "</div>"
      ],
      "text/plain": [
       "               label        original  split\n",
       "aagfhgtpmv.mp4  FAKE  vudstovrck.mp4  train\n",
       "aapnvogymq.mp4  FAKE  jdubbvfswz.mp4  train\n",
       "abarnvbtwb.mp4  REAL            None  train\n",
       "abofeumbvv.mp4  FAKE  atvmxvwyns.mp4  train\n",
       "abqwwspghj.mp4  FAKE  qzimuostzz.mp4  train"
      ]
     },
     "execution_count": 3,
     "metadata": {},
     "output_type": "execute_result"
    }
   ],
   "source": [
    "import pandas as pd\n",
    "import os\n",
    "train_sample_metadata = pd.read_json('train_sample_videos/metadata.json').T\n",
    "train_sample_metadata.head()"
   ]
  },
  {
   "cell_type": "code",
   "execution_count": 4,
   "metadata": {},
   "outputs": [],
   "source": [
    "train_dir = 'train_sample_videos/'\n",
    "train_video_files = [train_dir + x for x in os.listdir(train_dir) if x.endswith('.mp4')]\n",
    "test_dir = 'test_videos/'\n",
    "test_video_files = [test_dir + x for x in os.listdir(test_dir)]"
   ]
  },
  {
   "cell_type": "code",
   "execution_count": 7,
   "metadata": {},
   "outputs": [],
   "source": [
    "import cv2\n",
    "face_cascade = cv2.CascadeClassifier('haarcascade_frontalface_default.xml' ) # lets check faces"
   ]
  },
  {
   "cell_type": "code",
   "execution_count": 8,
   "metadata": {},
   "outputs": [],
   "source": [
    "def ROI(img):  \n",
    "    global roi\n",
    "    face_img = img.copy()\n",
    "    face_rects = face_cascade.detectMultiScale(face_img,scaleFactor=1.3, minNeighbors=5)  \n",
    "    face_rects_1=list(face_rects)\n",
    "    if len(face_rects)>1:\n",
    "        del(face_rects_1[1])\n",
    "    for (x,y,w,h) in face_rects: \n",
    "        roi = face_img[y:y+h,x:x+w]           \n",
    "    return roi"
   ]
  },
  {
   "cell_type": "markdown",
   "metadata": {},
   "source": [
    "### train_img"
   ]
  },
  {
   "cell_type": "code",
   "execution_count": null,
   "metadata": {},
   "outputs": [],
   "source": [
    "import cv2\n",
    "import os.path\n",
    "\n",
    "path_train=os.listdir(train_dir)\n",
    "# path_train=os.listdir(test_dir)\n",
    "\n",
    "for alldir in path_train:\n",
    "    if alldir.endswith('.mp4'):\n",
    "        a = 1\n",
    "        videopath = '/competition_face/'+ train_dir + alldir\n",
    "        vid_name = videopath.split('/')[-1]\n",
    "        vid_name_n = vid_name.split('.')[0]\n",
    "        print(vid_name)\n",
    "        a1=train_sample_metadata.copy()\n",
    "        label = a1[a1.index.isin([vid_name])] ['label'][0]\n",
    "        print(label)\n",
    "        #befoe\n",
    "        vc = cv2.VideoCapture(videopath)\n",
    "        c=1\n",
    "        if vc.isOpened():\n",
    "            rval,frame = vc.read()\n",
    "        else:\n",
    "            rval = False\n",
    "        timeF = 20\n",
    "        while rval:\n",
    "            rval,frame = vc.read()\n",
    "            if (c % timeF == 0  and c <=200):\n",
    "                face_img=ROI(frame)\n",
    "                write_path='/competition_face/train_face_img/'+ vid_name_n +'_'+ str(a)  +'_' + label +'.jpg'\n",
    "                print(write_path)\n",
    "                cv2.imwrite(write_path,face_img)\n",
    "                a +=1\n",
    "            c +=1\n",
    "#             cv2.waitkey(1)\n",
    "        vc.release()"
   ]
  },
  {
   "cell_type": "code",
   "execution_count": null,
   "metadata": {},
   "outputs": [],
   "source": [
    "path='/train_face_img/'\n",
    "print(len(os.listdir(path)))"
   ]
  },
  {
   "cell_type": "markdown",
   "metadata": {},
   "source": [
    "### test_img"
   ]
  },
  {
   "cell_type": "code",
   "execution_count": null,
   "metadata": {},
   "outputs": [],
   "source": [
    "import cv2\n",
    "import os.path\n",
    "\n",
    "# path_train=os.listdir(train_dir)\n",
    "path_test=os.listdir(test_dir)\n",
    "# print(len(path_test))\n",
    "\n",
    "for alldir in path_test:\n",
    "    if alldir.endswith('.mp4'):\n",
    "        a = 1\n",
    "        videopath = '/competition_face/'+ test_dir + alldir\n",
    "        vid_name = videopath.split('/')[-1]\n",
    "        vid_name_n = vid_name.split('.')[0]\n",
    "        print(vid_name)\n",
    "        \n",
    "        #befoe\n",
    "        vc = cv2.VideoCapture(videopath)\n",
    "        c=1\n",
    "        if vc.isOpened():\n",
    "            rval,frame = vc.read()\n",
    "        else:\n",
    "            rval = False\n",
    "        timeF = 20\n",
    "        while rval:\n",
    "            rval,frame = vc.read()\n",
    "            if (c % timeF == 0  and c <=200):\n",
    "                face_img=ROI(frame)\n",
    "                write_path='/competition_face/test_face_img/'+ vid_name_n +'_'+ str(a) +'.jpg'\n",
    "                print(write_path)\n",
    "                cv2.imwrite(write_path,face_img)\n",
    "                a +=1\n",
    "            c +=1\n",
    "#             cv2.waitkey(1)\n",
    "        vc.release()"
   ]
  },
  {
   "cell_type": "code",
   "execution_count": null,
   "metadata": {},
   "outputs": [],
   "source": [
    "path_test='/home/jovyan/work/data/gyx/competition_face/test_face_img/'\n",
    "print(len(os.listdir(path_test)))"
   ]
  },
  {
   "cell_type": "code",
   "execution_count": null,
   "metadata": {},
   "outputs": [],
   "source": [
    "train_sample_metadata"
   ]
  }
 ],
 "metadata": {
  "kernelspec": {
   "display_name": "Python 3",
   "language": "python",
   "name": "python3"
  },
  "language_info": {
   "codemirror_mode": {
    "name": "ipython",
    "version": 3
   },
   "file_extension": ".py",
   "mimetype": "text/x-python",
   "name": "python",
   "nbconvert_exporter": "python",
   "pygments_lexer": "ipython3",
   "version": "3.7.3"
  }
 },
 "nbformat": 4,
 "nbformat_minor": 2
}
